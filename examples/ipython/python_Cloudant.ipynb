{
 "cells": [
  {
   "cell_type": "markdown",
   "metadata": {},
   "source": [
    "# Python example using Spark SQL over Cloudant as a source\n",
    "\n",
    "This sample notebook is written in Python and expects the Python 2.7.5 runtime. Make sure the kernel is started and you are connect to it when executing this notebook.\n",
    "\n",
    "The data source for this example can be found at: http://examples.cloudant.com/crimes/\n",
    "\n",
    "Replicate the database into your own Cloudant account before you execute this script."
   ]
  },
  {
   "cell_type": "code",
   "execution_count": 245,
   "metadata": {
    "collapsed": true
   },
   "outputs": [],
   "source": [
    "# Import Python stuff\n",
    "import pprint\n",
    "from collections import Counter"
   ]
  },
  {
   "cell_type": "code",
   "execution_count": 246,
   "metadata": {
    "collapsed": true
   },
   "outputs": [],
   "source": [
    "    # Import PySpark stuff\n",
    "    from pyspark.sql import *\n",
    "    from pyspark.sql.functions import udf, asc, desc\n",
    "    from pyspark import SparkContext, SparkConf\n",
    "    from pyspark.sql.types import IntegerType"
   ]
  },
  {
   "cell_type": "markdown",
   "metadata": {},
   "source": [
    "# 1. Work with the Spark Context\n",
    "\n",
    "A Spark Context handle `sc` is available with every notebook create in the Spark Service. Use it to understand the Spark version used, the environment settings, and create a Spark SQL Context object off of it."
   ]
  },
  {
   "cell_type": "code",
   "execution_count": 247,
   "metadata": {
    "collapsed": false
   },
   "outputs": [
    {
     "data": {
      "text/plain": [
       "u'1.4.1'"
      ]
     },
     "execution_count": 247,
     "metadata": {},
     "output_type": "execute_result"
    }
   ],
   "source": [
    "sc.version"
   ]
  },
  {
   "cell_type": "code",
   "execution_count": 248,
   "metadata": {
    "collapsed": false
   },
   "outputs": [],
   "source": [
    "# sc is an existing SparkContext.\n",
    "sqlContext = SQLContext(sc)"
   ]
  },
  {
   "cell_type": "markdown",
   "metadata": {},
   "source": [
    "## 2. Work with a Cloudant database\n",
    "\n",
    "A Dataframe object can be created directly from a Cloudant database. To configure the database as source, pass these options:\n",
    "\n",
    "1 - package name that provides the classes (like `CloudantDataSource`) implemented in the connector to extend `BaseRelation`. For the Cloudant Spark connector this will be `com.cloudant.spark`\n",
    "\n",
    "2 - `cloudant.host` parameter to pass the Cloudant account name\n",
    "\n",
    "3 - `cloudant.user` parameter to pass the Cloudant user name\n",
    "\n",
    "4 - `cloudant.password` parameter to pass the Cloudant account password"
   ]
  },
  {
   "cell_type": "code",
   "execution_count": 250,
   "metadata": {
    "collapsed": false
   },
   "outputs": [],
   "source": [
    "cloudantdata = sqlContext.read.format(\"com.cloudant.spark\").\\\n",
    "option(\"cloudant.host\",\"examples.cloudant.com\").\\\n",
    "option(\"cloudant.username\",\"examples\").\\\n",
    "option(\"cloudant.password\",\"xxxxx\").\\\n",
    "load(\"crimes\")"
   ]
  },
  {
   "cell_type": "markdown",
   "metadata": {},
   "source": [
    "## 3. Work with a Dataframe\n",
    "\n",
    "At this point all transformations and functions should behave as specified with Spark SQL. (http://spark.apache.org/sql/)\n",
    "\n",
    "There are, however, a number of things the Cloudant Spark connector does not support yet, or things that are simply not working. For that reason we call this connector a **BETA** release and are only gradually improving it towards GA. \n",
    "\n",
    "Please direct your any change requests at [support@cloudant.com](mailto:support@cloudant.com)"
   ]
  },
  {
   "cell_type": "code",
   "execution_count": 251,
   "metadata": {
    "collapsed": false
   },
   "outputs": [
    {
     "name": "stdout",
     "output_type": "stream",
     "text": [
      "root\n",
      " |-- _id: string (nullable = true)\n",
      " |-- _rev: string (nullable = true)\n",
      " |-- geometry: struct (nullable = true)\n",
      " |    |-- coordinates: array (nullable = true)\n",
      " |    |    |-- element: double (containsNull = true)\n",
      " |    |-- type: string (nullable = true)\n",
      " |-- properties: struct (nullable = true)\n",
      " |    |-- compnos: string (nullable = true)\n",
      " |    |-- domestic: boolean (nullable = true)\n",
      " |    |-- fromdate: long (nullable = true)\n",
      " |    |-- main_crimecode: string (nullable = true)\n",
      " |    |-- naturecode: string (nullable = true)\n",
      " |    |-- reptdistrict: string (nullable = true)\n",
      " |    |-- shooting: boolean (nullable = true)\n",
      " |    |-- source: string (nullable = true)\n",
      " |-- type: string (nullable = true)\n",
      "\n"
     ]
    }
   ],
   "source": [
    "cloudantdata.printSchema()"
   ]
  },
  {
   "cell_type": "code",
   "execution_count": 252,
   "metadata": {
    "collapsed": false
   },
   "outputs": [
    {
     "data": {
      "text/plain": [
       "271"
      ]
     },
     "execution_count": 252,
     "metadata": {},
     "output_type": "execute_result"
    }
   ],
   "source": [
    "cloudantdata.count()"
   ]
  },
  {
   "cell_type": "code",
   "execution_count": 253,
   "metadata": {
    "collapsed": false
   },
   "outputs": [
    {
     "name": "stdout",
     "output_type": "stream",
     "text": [
      "+----------+\n",
      "|naturecode|\n",
      "+----------+\n",
      "|    DISTRB|\n",
      "|       EDP|\n",
      "|    ARREST|\n",
      "|        AB|\n",
      "|      CD14|\n",
      "|    UNKEMS|\n",
      "|      REQP|\n",
      "|       EDP|\n",
      "|       MVA|\n",
      "|     IVPER|\n",
      "|      NIDV|\n",
      "|        AB|\n",
      "|    IVPREM|\n",
      "|     IVPER|\n",
      "|     IVPER|\n",
      "|       MVA|\n",
      "|      CD11|\n",
      "|    LARCEN|\n",
      "|       MVA|\n",
      "|    ARREST|\n",
      "+----------+\n",
      "\n"
     ]
    }
   ],
   "source": [
    "cloudantdata.select(\"properties.naturecode\").show()"
   ]
  },
  {
   "cell_type": "markdown",
   "metadata": {},
   "source": [
    "**Here we filter only those documents where the naturecode is crime is a disturbance with naturecode DISTRB**"
   ]
  },
  {
   "cell_type": "code",
   "execution_count": 254,
   "metadata": {
    "collapsed": false
   },
   "outputs": [
    {
     "name": "stdout",
     "output_type": "stream",
     "text": [
      "+--------------------+--------------------+--------------------+--------------------+-------+\n",
      "|                 _id|                _rev|            geometry|          properties|   type|\n",
      "+--------------------+--------------------+--------------------+--------------------+-------+\n",
      "|79f14b64c57461584...|1-d9518df5c255e4b...|[List(-71.0598744...|[142035012,true,1...|Feature|\n",
      "|79f14b64c57461584...|1-798ef404b141dfb...|[List(-71.0554045...|[142035053,false,...|Feature|\n",
      "|79f14b64c57461584...|1-08cd46894f9c579...|[List(-71.1317963...|[142035113,false,...|Feature|\n",
      "|79f14b64c57461584...|1-be4512491803441...|[List(-71.1331290...|[142035116,false,...|Feature|\n",
      "|79f14b64c57461584...|1-2e3e1fe35278b5d...|[List(-71.0784045...|[142035162,false,...|Feature|\n",
      "|79f14b64c57461584...|1-e03133da93c2644...|[List(-71.0824845...|[142035211,false,...|Feature|\n",
      "|79f14b64c57461584...|1-4c21d07bfb9f45a...|[List(-71.1013666...|[142035316,false,...|Feature|\n",
      "+--------------------+--------------------+--------------------+--------------------+-------+\n",
      "\n"
     ]
    }
   ],
   "source": [
    "disturbDf = cloudantdata.filter(\"properties.naturecode = 'DISTRB'\")\n",
    "disturbDf.show()"
   ]
  },
  {
   "cell_type": "markdown",
   "metadata": {
    "collapsed": true
   },
   "source": [
    "**Finally we write the disturbance crimes back to another Cloudant database 'crimes_filtered'**"
   ]
  },
  {
   "cell_type": "code",
   "execution_count": 255,
   "metadata": {
    "collapsed": false
   },
   "outputs": [],
   "source": [
    "disturbDf.select(\"properties\").write.format(\"com.cloudant.spark\").\\\n",
    "option(\"cloudant.host\",\"kache.cloudant.com\").\\\n",
    "option(\"cloudant.username\",\"kache\").\\\n",
    "option(\"cloudant.password\",\"xxxxx\").\\\n",
    "save(\"crimes_filtered\")"
   ]
  },
  {
   "cell_type": "markdown",
   "metadata": {
    "collapsed": true
   },
   "source": [
    "## 4. Visualization"
   ]
  },
  {
   "cell_type": "code",
   "execution_count": 256,
   "metadata": {
    "collapsed": false
   },
   "outputs": [
    {
     "name": "stdout",
     "output_type": "stream",
     "text": [
      "root\n",
      " |-- naturecode: string (nullable = true)\n",
      " |-- count: long (nullable = false)\n",
      "\n"
     ]
    }
   ],
   "source": [
    "reducedValue = cloudantdata.groupBy(\"properties.naturecode\").count()\n",
    "reducedValue.printSchema()\n"
   ]
  },
  {
   "cell_type": "markdown",
   "metadata": {},
   "source": [
    "I'm converting a Apache Spark Data Frame to a Panda Data Frame first. Matplotlib simply seems to have better support for Pandas today.\n",
    "\n",
    "Let's also sort the DF by `count` first and `naturecode` second to produce a sorted graph."
   ]
  },
  {
   "cell_type": "code",
   "execution_count": 259,
   "metadata": {
    "collapsed": false
   },
   "outputs": [
    {
     "name": "stdout",
     "output_type": "stream",
     "text": [
      "   naturecode  count\n",
      "0       IVPER     40\n",
      "1      LARCEN     27\n",
      "2         MVA     25\n",
      "3      ARREST     19\n",
      "4      IVPREM     13\n",
      "5        DVIP     12\n",
      "6        NIDV     12\n",
      "7          AB     11\n",
      "8          BE     11\n",
      "9        PROP     11\n",
      "10       IVMV     10\n",
      "11       VAND      9\n",
      "12     VIORDR      9\n",
      "13     DISTRB      7\n",
      "14        EDP      4\n",
      "15     INVEST      4\n",
      "16     ROBBER      4\n",
      "17         SS      4\n",
      "18      FIGHT      3\n",
      "19     LANTEN      3\n",
      "20       None      2\n",
      "21      ALARM      2\n",
      "22     CARDIA      2\n",
      "23       CD11      2\n",
      "24     HOMINV      2\n",
      "25     MISSIN      2\n",
      "26     PERGUN      2\n",
      "27     POISON      2\n",
      "28       REQP      2\n",
      "29        UNK      2\n",
      "30        AOD      1\n",
      "31     ARMROB      1\n",
      "32       CD14      1\n",
      "33       CD35      1\n",
      "34        CD9      1\n",
      "35     INJOFF      1\n",
      "36       MISC      1\n",
      "37     PKNIFE      1\n",
      "38     PRSCRM      1\n",
      "39      REQEP      1\n",
      "40      SHOTS      1\n",
      "41         TS      1\n",
      "42     UNKEMS      1\n"
     ]
    }
   ],
   "source": [
    "import pandas as pd\n",
    "pandaDf = reducedValue.orderBy(desc(\"count\"), asc(\"naturecode\")).toPandas()\n",
    "print(pandaDf)"
   ]
  },
  {
   "cell_type": "code",
   "execution_count": 260,
   "metadata": {
    "collapsed": true
   },
   "outputs": [],
   "source": [
    "# This is needed to actually see the plots\n",
    "%matplotlib inline\n",
    "\n",
    "# Additional imports frm matplotlib\n",
    "import matplotlib.pyplot as plt"
   ]
  },
  {
   "cell_type": "code",
   "execution_count": 261,
   "metadata": {
    "collapsed": false
   },
   "outputs": [
    {
     "data": {
      "image/png": "[encoded data removed]",
      "text/plain": [
       "<matplotlib.figure.Figure at 0x7f6c25653550>"
      ]
     },
     "metadata": {},
     "output_type": "display_data"
    }
   ],
   "source": [
    "# The data\n",
    "values = pandaDf['count']\n",
    "labels = pandaDf['naturecode']\n",
    "\n",
    "# The format\n",
    "plt.gcf().set_size_inches(16, 12, forward=True)\n",
    "plt.title('Number of crimes by type')\n",
    "\n",
    "# Barh is a horizontal bar chart with values (x axis) and labels (y axis)\n",
    "plt.barh(range(len(values)), values)\n",
    "plt.yticks(range(len(values)), labels)\n",
    "\n",
    "# Print the plot\n",
    "plt.show()\n"
   ]
  },
  {
   "cell_type": "code",
   "execution_count": null,
   "metadata": {
    "collapsed": true
   },
   "outputs": [],
   "source": []
  }
 ],
 "metadata": {
  "kernelspec": {
   "display_name": "Python 2",
   "language": "python",
   "name": "python2"
  },
  "language_info": {
   "codemirror_mode": {
    "name": "ipython",
    "version": 2
   },
   "file_extension": ".py",
   "mimetype": "text/x-python",
   "name": "python",
   "nbconvert_exporter": "python",
   "pygments_lexer": "ipython2",
   "version": "2.7.9"
  }
 },
 "nbformat": 4,
 "nbformat_minor": 0
}