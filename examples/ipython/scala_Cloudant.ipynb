{
 "cells": [
  {
   "cell_type": "markdown",
   "metadata": {},
   "source": [
    "# Scala example using Spark SQL over Cloudant as a source\n",
    "\n",
    "This sample notebook is written in Scala and expects the Scala 2.10 runtime. Make sure the kernel is started and we are connected when executing this notebook.\n",
    "\n",
    "The data source for this example can be found at: http://examples.cloudant.com/crimes/\n",
    "\n",
    "Replicate the database into your own Cloudant account before you execute this script."
   ]
  },
  {
   "cell_type": "markdown",
   "metadata": {},
   "source": [
    "## 1. Work with the Spark Context\n",
    "\n",
    "A Spark Context handle `sc` is available with every notebook create in the Spark Service. Use it to understand the Spark version used, the environment settings, and create a Spark SQL Context object off of it."
   ]
  },
  {
   "cell_type": "code",
   "execution_count": 1,
   "metadata": {
    "collapsed": false
   },
   "outputs": [
    {
     "data": {
      "text/plain": [
       "1.4.1"
      ]
     },
     "execution_count": 1,
     "metadata": {},
     "output_type": "execute_result"
    }
   ],
   "source": [
    "sc.version"
   ]
  },
  {
   "cell_type": "code",
   "execution_count": 3,
   "metadata": {
    "collapsed": true
   },
   "outputs": [],
   "source": [
    "val sqlCtx = new org.apache.spark.sql.SQLContext(sc)"
   ]
  },
  {
   "cell_type": "markdown",
   "metadata": {},
   "source": [
    "## 2. Work with a Cloudant database\n",
    "\n",
    "A Dataframe object can be created directly from a Cloudant database. To configure the database as source, pass these options:\n",
    "\n",
    "1 - package name that provides the classes (like `CloudantDataSource`) implemented in the connector to extend `BaseRelation`. For the Cloudant Spark connector this will be `com.cloudant.spark`\n",
    "\n",
    "2 - `cloudant.host` parameter to pass the Cloudant account name\n",
    "\n",
    "3 - `cloudant.user` parameter to pass the Cloudant user name\n",
    "\n",
    "4 - `cloudant.password` parameter to pass the Cloudant account password"
   ]
  },
  {
   "cell_type": "code",
   "execution_count": 4,
   "metadata": {
    "collapsed": false
   },
   "outputs": [
    {
     "name": "stdout",
     "output_type": "stream",
     "text": [
      "Use dbName=customer, indexName=null, jsonstore.rdd.partitions=5, jsonstore.rdd.maxInPartition=-1, jsonstore.rdd.minInPartition=10, jsonstore.rdd.requestTimeout=100000,jsonstore.rdd.concurrentSave=-1,jsonstore.rdd.bulkSize=1\n"
     ]
    }
   ],
   "source": [
    "val df = sqlCtx.read.format(\"com.cloudant.spark\").option(\"cloudant.host\",\"examples.cloudant.com\").option(\"cloudant.username\", \"examples\").option(\"cloudant.password\",\"xxxx\").load(\"customer\")"
   ]
  },
  {
   "cell_type": "markdown",
   "metadata": {},
   "source": [
    "## 3. Work with a Dataframe\n",
    "\n",
    "At this point all transformations and functions should behave as specified with Spark SQL. (http://spark.apache.org/sql/)\n",
    "\n",
    "There are, however, a number of things the Cloudant Spark connector does not support yet, or things that are simply not working. For that reason we call this connector a **BETA** release and are only gradually improving it towards GA. \n",
    "\n",
    "Please direct your any change requests at [support@cloudant.com](mailto:support@cloudant.com)"
   ]
  },
  {
   "cell_type": "code",
   "execution_count": 5,
   "metadata": {
    "collapsed": false
   },
   "outputs": [
    {
     "name": "stdout",
     "output_type": "stream",
     "text": [
      "root\n",
      " |-- ADDRESS1: struct (nullable = true)\n",
      " |    |-- street: string (nullable = true)\n",
      " |    |-- street number: string (nullable = true)\n",
      " |-- ADDRESS1_MB: string (nullable = true)\n",
      " |-- BRANCH_CODE: long (nullable = true)\n",
      " |-- CITY: string (nullable = true)\n",
      " |-- CITY_MB: string (nullable = true)\n",
      " |-- COUNTRY_CODE: long (nullable = true)\n",
      " |-- ORGANIZATION_CODE: string (nullable = true)\n",
      " |-- POSTAL_ZONE: string (nullable = true)\n",
      " |-- WAREHOUSE_BRANCH_CODE: long (nullable = true)\n",
      " |-- _id: string (nullable = true)\n",
      " |-- _rev: string (nullable = true)\n",
      "\n"
     ]
    }
   ],
   "source": [
    "df.printSchema()"
   ]
  },
  {
   "cell_type": "code",
   "execution_count": 6,
   "metadata": {
    "collapsed": false
   },
   "outputs": [
    {
     "data": {
      "text/plain": [
       "3561"
      ]
     },
     "execution_count": 6,
     "metadata": {},
     "output_type": "execute_result"
    }
   ],
   "source": [
    "df.count()"
   ]
  },
  {
   "cell_type": "code",
   "execution_count": 7,
   "metadata": {
    "collapsed": false
   },
   "outputs": [
    {
     "name": "stdout",
     "output_type": "stream",
     "text": [
      "+----------------+\n",
      "|            CITY|\n",
      "+----------------+\n",
      "|           Paris|\n",
      "|          Milano|\n",
      "|       Amsterdam|\n",
      "|         Hamburg|\n",
      "|         M?nchen|\n",
      "|           Kista|\n",
      "|         Calgary|\n",
      "|         Toronto|\n",
      "|          Boston|\n",
      "|         Seattle|\n",
      "|     Los Angeles|\n",
      "|           Miami|\n",
      "|            Lyon|\n",
      "|Distrito Federal|\n",
      "|           Tokyo|\n",
      "|      Osaka City|\n",
      "|       Melbourne|\n",
      "|          Bilbao|\n",
      "|       S?o Paulo|\n",
      "|          Kuopio|\n",
      "+----------------+\n",
      "\n"
     ]
    }
   ],
   "source": [
    "df.select(\"CITY\").show()"
   ]
  },
  {
   "cell_type": "code",
   "execution_count": 9,
   "metadata": {
    "collapsed": false
   },
   "outputs": [
    {
     "name": "stdout",
     "output_type": "stream",
     "text": [
      "+--------------------+\n",
      "|         ADDRESS1_MB|\n",
      "+--------------------+\n",
      "|75, rue du Faubou...|\n",
      "|     Piazza Duomo, 1|\n",
      "| Singelgravenplein 4|\n",
      "|      Schwabentor 35|\n",
      "|    Leopoldstra?e 36|\n",
      "| Isafjordsgatan 30 C|\n",
      "|7800, 756 - 6th A...|\n",
      "|    789 Yonge Street|\n",
      "|1288 Dorchester A...|\n",
      "|     299 Yale Avenue|\n",
      "|1288 South Barrin...|\n",
      "|      10032 NW 186th|\n",
      "| 6c, rue de l'?glise|\n",
      "|Prol. Paseo de la...|\n",
      "|         202-2-3 ???|\n",
      "|           543-225 ?|\n",
      "|    2315 Queen's Ave|\n",
      "|Plaza de la Const...|\n",
      "|Avenida Paulista,...|\n",
      "|       Kauppakatu 33|\n",
      "+--------------------+\n",
      "\n"
     ]
    }
   ],
   "source": [
    "df.select(\"ADDRESS1_MB\").show()"
   ]
  },
  {
   "cell_type": "code",
   "execution_count": 10,
   "metadata": {
    "collapsed": false
   },
   "outputs": [
    {
     "name": "stdout",
     "output_type": "stream",
     "text": [
      "root\n",
      " |-- ADDRESS1_MB: string (nullable = true)\n",
      "\n",
      "+--------------------+\n",
      "|         ADDRESS1_MB|\n",
      "+--------------------+\n",
      "|75, rue du Faubou...|\n",
      "|     Piazza Duomo, 1|\n",
      "| Singelgravenplein 4|\n",
      "|      Schwabentor 35|\n",
      "|    Leopoldstra?e 36|\n",
      "| Isafjordsgatan 30 C|\n",
      "|7800, 756 - 6th A...|\n",
      "|    789 Yonge Street|\n",
      "|1288 Dorchester A...|\n",
      "|     299 Yale Avenue|\n",
      "|1288 South Barrin...|\n",
      "|      10032 NW 186th|\n",
      "| 6c, rue de l'?glise|\n",
      "|Prol. Paseo de la...|\n",
      "|         202-2-3 ???|\n",
      "|           543-225 ?|\n",
      "|    2315 Queen's Ave|\n",
      "|Plaza de la Const...|\n",
      "|Avenida Paulista,...|\n",
      "|       Kauppakatu 33|\n",
      "+--------------------+\n",
      "\n"
     ]
    }
   ],
   "source": [
    "val add = df.select(\"ADDRESS1_MB\");\n",
    "        add.registerTempTable(\"add\");\n",
    "        add.printSchema();\n",
    "        add.show();"
   ]
  }
 ],
 "metadata": {
  "celltoolbar": "Raw Cell Format",
  "kernelspec": {
   "display_name": "Scala 2.10",
   "language": "scala",
   "name": "spark"
  },
  "language_info": {
   "name": "scala"
  },
  "name": "Cloudant-spark.ipynb"
 },
 "nbformat": 4,
 "nbformat_minor": 0
}